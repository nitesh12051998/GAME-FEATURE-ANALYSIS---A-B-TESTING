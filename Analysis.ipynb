{
 "cells": [
  {
   "cell_type": "markdown",
   "id": "a343c82f-c052-4f10-afe7-c409776959f2",
   "metadata": {},
   "source": [
    "# A/B TESTING - COOKIE CATS GAMES & BUSINESS PROBLEM"
   ]
  },
  {
   "cell_type": "markdown",
   "id": "41ae6c9d-7a05-403e-bdfd-ed6919adbb38",
   "metadata": {},
   "source": [
    "Cookie Cats, a highly popular mobile puzzle game created by Tactile Entertainment, follows the classic \"connect three\" puzzle format where players connect tiles of the same color to clear levels.\n",
    "\n",
    "As players advance through the game, they encounter gates that either require them to wait a substantial amount of time or make an in-app purchase to proceed. These gates not only drive in-app purchases but also serve the purpose of giving players a mandated pause, potentially enhancing their overall enjoyment and engagement with the game.\n",
    "\n",
    "The original placement of the first gate was at level 30. However, in this analysis, we'll delve into an A/B test where we shifted the first gate from level 30 to level 40. Specifically, we aim to assess the impact of this change on player retention.\n"
   ]
  },
  {
   "cell_type": "markdown",
   "id": "b1a08af5-a2f6-4e1b-8743-1ce2b9733598",
   "metadata": {},
   "source": [
    "# DATA DICTIONARY"
   ]
  },
  {
   "cell_type": "markdown",
   "id": "67bcbc23-2b28-480c-8cc3-a5deebd4e3c5",
   "metadata": {},
   "source": [
    "First thinhs first, let us understand the data set provided"
   ]
  },
  {
   "cell_type": "code",
   "execution_count": 1,
   "id": "25382757-1584-4511-b88e-632db3a31ece",
   "metadata": {},
   "outputs": [
    {
     "data": {
      "text/html": [
       "<div>\n",
       "<style scoped>\n",
       "    .dataframe tbody tr th:only-of-type {\n",
       "        vertical-align: middle;\n",
       "    }\n",
       "\n",
       "    .dataframe tbody tr th {\n",
       "        vertical-align: top;\n",
       "    }\n",
       "\n",
       "    .dataframe thead th {\n",
       "        text-align: right;\n",
       "    }\n",
       "</style>\n",
       "<table border=\"1\" class=\"dataframe\">\n",
       "  <thead>\n",
       "    <tr style=\"text-align: right;\">\n",
       "      <th></th>\n",
       "      <th>userid</th>\n",
       "      <th>version</th>\n",
       "      <th>sum_gamerounds</th>\n",
       "      <th>retention_1</th>\n",
       "      <th>retention_7</th>\n",
       "    </tr>\n",
       "  </thead>\n",
       "  <tbody>\n",
       "    <tr>\n",
       "      <th>0</th>\n",
       "      <td>116</td>\n",
       "      <td>gate_30</td>\n",
       "      <td>3</td>\n",
       "      <td>False</td>\n",
       "      <td>False</td>\n",
       "    </tr>\n",
       "    <tr>\n",
       "      <th>1</th>\n",
       "      <td>337</td>\n",
       "      <td>gate_30</td>\n",
       "      <td>38</td>\n",
       "      <td>True</td>\n",
       "      <td>False</td>\n",
       "    </tr>\n",
       "    <tr>\n",
       "      <th>2</th>\n",
       "      <td>377</td>\n",
       "      <td>gate_40</td>\n",
       "      <td>165</td>\n",
       "      <td>True</td>\n",
       "      <td>False</td>\n",
       "    </tr>\n",
       "    <tr>\n",
       "      <th>3</th>\n",
       "      <td>483</td>\n",
       "      <td>gate_40</td>\n",
       "      <td>1</td>\n",
       "      <td>False</td>\n",
       "      <td>False</td>\n",
       "    </tr>\n",
       "    <tr>\n",
       "      <th>4</th>\n",
       "      <td>488</td>\n",
       "      <td>gate_40</td>\n",
       "      <td>179</td>\n",
       "      <td>True</td>\n",
       "      <td>True</td>\n",
       "    </tr>\n",
       "    <tr>\n",
       "      <th>5</th>\n",
       "      <td>540</td>\n",
       "      <td>gate_40</td>\n",
       "      <td>187</td>\n",
       "      <td>True</td>\n",
       "      <td>True</td>\n",
       "    </tr>\n",
       "    <tr>\n",
       "      <th>6</th>\n",
       "      <td>1066</td>\n",
       "      <td>gate_30</td>\n",
       "      <td>0</td>\n",
       "      <td>False</td>\n",
       "      <td>False</td>\n",
       "    </tr>\n",
       "    <tr>\n",
       "      <th>7</th>\n",
       "      <td>1444</td>\n",
       "      <td>gate_40</td>\n",
       "      <td>2</td>\n",
       "      <td>False</td>\n",
       "      <td>False</td>\n",
       "    </tr>\n",
       "    <tr>\n",
       "      <th>8</th>\n",
       "      <td>1574</td>\n",
       "      <td>gate_40</td>\n",
       "      <td>108</td>\n",
       "      <td>True</td>\n",
       "      <td>True</td>\n",
       "    </tr>\n",
       "    <tr>\n",
       "      <th>9</th>\n",
       "      <td>1587</td>\n",
       "      <td>gate_40</td>\n",
       "      <td>153</td>\n",
       "      <td>True</td>\n",
       "      <td>False</td>\n",
       "    </tr>\n",
       "  </tbody>\n",
       "</table>\n",
       "</div>"
      ],
      "text/plain": [
       "   userid  version  sum_gamerounds  retention_1  retention_7\n",
       "0     116  gate_30               3        False        False\n",
       "1     337  gate_30              38         True        False\n",
       "2     377  gate_40             165         True        False\n",
       "3     483  gate_40               1        False        False\n",
       "4     488  gate_40             179         True         True\n",
       "5     540  gate_40             187         True         True\n",
       "6    1066  gate_30               0        False        False\n",
       "7    1444  gate_40               2        False        False\n",
       "8    1574  gate_40             108         True         True\n",
       "9    1587  gate_40             153         True        False"
      ]
     },
     "execution_count": 1,
     "metadata": {},
     "output_type": "execute_result"
    }
   ],
   "source": [
    "# importing Pandas\n",
    "import pandas as pd\n",
    "\n",
    "# reading the data set\n",
    "df = pd.read_csv('cookie_cats.csv')\n",
    "\n",
    "# displaying the first few rows\n",
    "df.head(10)"
   ]
  },
  {
   "cell_type": "code",
   "execution_count": 2,
   "id": "ac81151f-3eb1-488b-9a87-feaf0615f3d7",
   "metadata": {},
   "outputs": [
    {
     "data": {
      "text/plain": [
       "(90189, 5)"
      ]
     },
     "execution_count": 2,
     "metadata": {},
     "output_type": "execute_result"
    }
   ],
   "source": [
    "# characteristics of data\n",
    "df.shape"
   ]
  },
  {
   "cell_type": "code",
   "execution_count": 3,
   "id": "6582b372-eb1b-4a55-b597-0b745cc59453",
   "metadata": {},
   "outputs": [
    {
     "data": {
      "text/plain": [
       "90189"
      ]
     },
     "execution_count": 3,
     "metadata": {},
     "output_type": "execute_result"
    }
   ],
   "source": [
    "# no. of unique users in the dataset\n",
    "df['userid'].nunique()"
   ]
  },
  {
   "cell_type": "markdown",
   "id": "9ed0964d-5cc0-4b85-a80e-a86ceb4675d4",
   "metadata": {},
   "source": [
    "## 1. Context\n",
    "This dataset includes A/B test results of Cookie Cats to examine what happens when the first gate in the game was moved from level 30 to level 40. When a player installed the game, he or she was randomly assigned to either gate_30 or gate_40.\n",
    "\n",
    "## 2. Content\n",
    "The data we have consists of 90189 unique users who have installed the game since the A/B test started. The following variables are defined as follows\n",
    "\n",
    "userid: A unique number that identifies each user.\n",
    "\n",
    "version: Identifies whether the user was put in the control group (gate_30 - a gate at level 30) or the varient group (gate_40 - a gate at level 40).\n",
    "\n",
    "sum_gamerounds: Signifies the number of game rounds played by the user during the first 14 days after install.\n",
    "\n",
    "retention_1: Identifies whether the user came back and played the game 1 day after installing\n",
    "\n",
    "retention_7: Identifies whether the user came back and played the game 7 days after installing\n",
    "\n",
    "### NOTE: \n",
    "Inorder to maintain randomization which plays a vital role in A/B testing process, a user is randomly assigned to one of the groups (control or varient) when  they download the game"
   ]
  },
  {
   "cell_type": "markdown",
   "id": "7bd9e0c7-be9a-421b-b2b7-41581c1a6f0a",
   "metadata": {},
   "source": [
    "# ABOUT THE DATA SET"
   ]
  },
  {
   "cell_type": "markdown",
   "id": "4fcc32e6-7b84-4112-94eb-71c18c31700d",
   "metadata": {},
   "source": [
    "## 1. Dataset Overview"
   ]
  },
  {
   "cell_type": "code",
   "execution_count": 4,
   "id": "f54ded9c-c63d-46ae-8978-d718885cc4dd",
   "metadata": {},
   "outputs": [
    {
     "name": "stdout",
     "output_type": "stream",
     "text": [
      "<class 'pandas.core.frame.DataFrame'>\n",
      "RangeIndex: 90189 entries, 0 to 90188\n",
      "Data columns (total 5 columns):\n",
      " #   Column          Non-Null Count  Dtype \n",
      "---  ------          --------------  ----- \n",
      " 0   userid          90189 non-null  int64 \n",
      " 1   version         90189 non-null  object\n",
      " 2   sum_gamerounds  90189 non-null  int64 \n",
      " 3   retention_1     90189 non-null  bool  \n",
      " 4   retention_7     90189 non-null  bool  \n",
      "dtypes: bool(2), int64(2), object(1)\n",
      "memory usage: 2.2+ MB\n"
     ]
    }
   ],
   "source": [
    "df.info()"
   ]
  },
  {
   "cell_type": "code",
   "execution_count": 5,
   "id": "d15cf5d4-b81c-413a-b2c4-7b3b0f3db886",
   "metadata": {},
   "outputs": [
    {
     "data": {
      "text/html": [
       "<div>\n",
       "<style scoped>\n",
       "    .dataframe tbody tr th:only-of-type {\n",
       "        vertical-align: middle;\n",
       "    }\n",
       "\n",
       "    .dataframe tbody tr th {\n",
       "        vertical-align: top;\n",
       "    }\n",
       "\n",
       "    .dataframe thead th {\n",
       "        text-align: right;\n",
       "    }\n",
       "</style>\n",
       "<table border=\"1\" class=\"dataframe\">\n",
       "  <thead>\n",
       "    <tr style=\"text-align: right;\">\n",
       "      <th></th>\n",
       "      <th>userid</th>\n",
       "      <th>sum_gamerounds</th>\n",
       "    </tr>\n",
       "  </thead>\n",
       "  <tbody>\n",
       "    <tr>\n",
       "      <th>count</th>\n",
       "      <td>9.018900e+04</td>\n",
       "      <td>90189.000000</td>\n",
       "    </tr>\n",
       "    <tr>\n",
       "      <th>mean</th>\n",
       "      <td>4.998412e+06</td>\n",
       "      <td>51.872457</td>\n",
       "    </tr>\n",
       "    <tr>\n",
       "      <th>std</th>\n",
       "      <td>2.883286e+06</td>\n",
       "      <td>195.050858</td>\n",
       "    </tr>\n",
       "    <tr>\n",
       "      <th>min</th>\n",
       "      <td>1.160000e+02</td>\n",
       "      <td>0.000000</td>\n",
       "    </tr>\n",
       "    <tr>\n",
       "      <th>25%</th>\n",
       "      <td>2.512230e+06</td>\n",
       "      <td>5.000000</td>\n",
       "    </tr>\n",
       "    <tr>\n",
       "      <th>50%</th>\n",
       "      <td>4.995815e+06</td>\n",
       "      <td>16.000000</td>\n",
       "    </tr>\n",
       "    <tr>\n",
       "      <th>75%</th>\n",
       "      <td>7.496452e+06</td>\n",
       "      <td>51.000000</td>\n",
       "    </tr>\n",
       "    <tr>\n",
       "      <th>max</th>\n",
       "      <td>9.999861e+06</td>\n",
       "      <td>49854.000000</td>\n",
       "    </tr>\n",
       "  </tbody>\n",
       "</table>\n",
       "</div>"
      ],
      "text/plain": [
       "             userid  sum_gamerounds\n",
       "count  9.018900e+04    90189.000000\n",
       "mean   4.998412e+06       51.872457\n",
       "std    2.883286e+06      195.050858\n",
       "min    1.160000e+02        0.000000\n",
       "25%    2.512230e+06        5.000000\n",
       "50%    4.995815e+06       16.000000\n",
       "75%    7.496452e+06       51.000000\n",
       "max    9.999861e+06    49854.000000"
      ]
     },
     "execution_count": 5,
     "metadata": {},
     "output_type": "execute_result"
    }
   ],
   "source": [
    "df.describe()"
   ]
  },
  {
   "cell_type": "markdown",
   "id": "579a2409-b13d-4c39-80f0-215801ab4bc2",
   "metadata": {},
   "source": [
    "df.isnull().sum()"
   ]
  },
  {
   "cell_type": "markdown",
   "id": "a22176e5-ca36-4e51-b7c0-5341c9fc60c7",
   "metadata": {},
   "source": [
    "## 2. Descriptive Statistics"
   ]
  },
  {
   "cell_type": "markdown",
   "id": "d8d650cc-b0bb-45e9-9dbd-dfb5e481e8a1",
   "metadata": {},
   "source": [
    "Let us now look at the dataset closely at a version level."
   ]
  },
  {
   "cell_type": "code",
   "execution_count": 9,
   "id": "d4e0cfa1-27b5-4186-becc-332991789d1a",
   "metadata": {},
   "outputs": [
    {
     "data": {
      "text/html": [
       "<div>\n",
       "<style scoped>\n",
       "    .dataframe tbody tr th:only-of-type {\n",
       "        vertical-align: middle;\n",
       "    }\n",
       "\n",
       "    .dataframe tbody tr th {\n",
       "        vertical-align: top;\n",
       "    }\n",
       "\n",
       "    .dataframe thead th {\n",
       "        text-align: right;\n",
       "    }\n",
       "</style>\n",
       "<table border=\"1\" class=\"dataframe\">\n",
       "  <thead>\n",
       "    <tr style=\"text-align: right;\">\n",
       "      <th></th>\n",
       "      <th>userid</th>\n",
       "    </tr>\n",
       "    <tr>\n",
       "      <th>version</th>\n",
       "      <th></th>\n",
       "    </tr>\n",
       "  </thead>\n",
       "  <tbody>\n",
       "    <tr>\n",
       "      <th>gate_30</th>\n",
       "      <td>44700</td>\n",
       "    </tr>\n",
       "    <tr>\n",
       "      <th>gate_40</th>\n",
       "      <td>45489</td>\n",
       "    </tr>\n",
       "  </tbody>\n",
       "</table>\n",
       "</div>"
      ],
      "text/plain": [
       "         userid\n",
       "version        \n",
       "gate_30   44700\n",
       "gate_40   45489"
      ]
     },
     "execution_count": 9,
     "metadata": {},
     "output_type": "execute_result"
    }
   ],
   "source": [
    "df.groupby(\"version\")[[\"userid\"]].nunique()"
   ]
  },
  {
   "cell_type": "code",
   "execution_count": null,
   "id": "e3561146-76ba-42c3-89af-04468f70d4fb",
   "metadata": {},
   "outputs": [],
   "source": [
    "df.groupby(\"version\").agg({\"sum_gamerounds\" : [\"mean\",\"max\",\"count\"]})"
   ]
  },
  {
   "cell_type": "code",
   "execution_count": 13,
   "id": "695105b2-c7be-4da6-a7b5-25012111ce9b",
   "metadata": {},
   "outputs": [
    {
     "data": {
      "text/plain": [
       "<AxesSubplot: xlabel='version', ylabel='count'>"
      ]
     },
     "execution_count": 13,
     "metadata": {},
     "output_type": "execute_result"
    },
    {
     "data": {
      "image/png": "[encoded data removed]",
      "text/plain": [
       "<Figure size 640x480 with 1 Axes>"
      ]
     },
     "metadata": {},
     "output_type": "display_data"
    }
   ],
   "source": [
    "import matplotlib.pyplot as plt\n",
    "import seaborn as sns\n",
    "\n",
    "df.groupby(\"version\")[[\"sum_gamerounds\"]].count()\n",
    "sns.countplot(x=\"version\",palette=\"Paired\",data=df)"
   ]
  },
  {
   "cell_type": "markdown",
   "id": "abf5768b-9be1-453d-b077-a96aec18259a",
   "metadata": {},
   "source": [
    "We see that both the control and varient are equally split"
   ]
  },
  {
   "cell_type": "code",
   "execution_count": 17,
   "id": "5663e158-18d7-4256-b665-510cba6b8191",
   "metadata": {},
   "outputs": [
    {
     "data": {
      "text/plain": [
       "<AxesSubplot: xlabel='version'>"
      ]
     },
     "execution_count": 17,
     "metadata": {},
     "output_type": "execute_result"
    },
    {
     "data": {
      "image/png": "[encoded data removed]",
      "text/plain": [
       "<Figure size 640x480 with 1 Axes>"
      ]
     },
     "metadata": {},
     "output_type": "display_data"
    }
   ],
   "source": [
    "df.groupby(\"version\")[\"sum_gamerounds\"].mean().plot(kind=\"bar\", color=[ \"red\", \"cyan\"])"
   ]
  },
  {
   "cell_type": "markdown",
   "id": "a2222739-d5a7-4594-863e-f8596f6db3d0",
   "metadata": {},
   "source": [
    "If we interpret the results, the average number of game rounds played by users of both groups seem to be more or less equal but to be precise the mean for 'gate30' is slightly highers. But what if it happened by chance?"
   ]
  },
  {
   "cell_type": "markdown",
   "id": "4ca24734-748b-4c76-920f-fe49cb658754",
   "metadata": {},
   "source": [
    "# AB TEST"
   ]
  },
  {
   "cell_type": "markdown",
   "id": "6c358363-618d-45f1-8669-b23c203a2d91",
   "metadata": {},
   "source": [
    "### What is A/B Testing?"
   ]
  },
  {
   "cell_type": "markdown",
   "id": "5000ffcf-44ba-419d-976e-8f698b7dc32d",
   "metadata": {},
   "source": [
    "A/B testing, also referred to as split testing, is a technique for evaluating and comparing the effectiveness of one or more newer versions with the exsisting version of a webpage or an application. This method is widely employed in fields like marketing, product development, and user experience enhancement to guide decision-making based on empirical data and enhance overall performance."
   ]
  },
  {
   "cell_type": "markdown",
   "id": "ca3f9233-7087-4165-9393-09babd201b16",
   "metadata": {},
   "source": [
    "### Why is A/B Testing done?"
   ]
  },
  {
   "cell_type": "markdown",
   "id": "96635d16-5f58-4699-8a5e-2e29dd28b5d8",
   "metadata": {},
   "source": [
    "The primary purpose of A/B testing is to identify which variation (A or B) of a web page or an application produces better results in terms of a specific key performance indicator (KPI). This could be anything from click-through rates, conversion rates, user engagement, or any other measurable metric that aligns with the organization's goals. By comparing two versions under controlled conditions, businesses can gather objective data and make informed decisions to improve their digital assets and achieve better outcomes.### A/B Test Phases"
   ]
  },
  {
   "cell_type": "markdown",
   "id": "c88eee62-ab5d-4a1f-9234-69d769c9d6d2",
   "metadata": {},
   "source": [
    "### A/B Test Phases"
   ]
  },
  {
   "cell_type": "markdown",
   "id": "d6f0c340-afe3-4c60-9542-c66874b2c65b",
   "metadata": {},
   "source": [
    "To apply the A/B Testing for the dataset we should have follow the fundamental steps according to literature of the A/B Testing. These steps can be seen below:\n",
    "\n",
    "Hypothesis\n",
    "\n",
    "Assumptions Control\n",
    "\n",
    "Apply of the Hyphothesis"
   ]
  },
  {
   "cell_type": "markdown",
   "id": "5c2ce014-803d-407b-a487-27d59fbe01ac",
   "metadata": {},
   "source": [
    "### Hypothesis"
   ]
  },
  {
   "cell_type": "markdown",
   "id": "f44592f6-2d79-4edd-8ee3-df395cc1f276",
   "metadata": {},
   "source": [
    "In this case, \n",
    "\n",
    "H0: There is no statistically significant difference between 'gate30' and 'gate40'\n",
    "\n",
    "H1: There is statistically significant difference between 'gate30' and 'gate40'"
   ]
  },
  {
   "cell_type": "markdown",
   "id": "ee3b7e7f-a95c-4a05-a22b-07c66f53f351",
   "metadata": {},
   "source": [
    "### Assumptions Control\n",
    "\n",
    "##### 1. Normal Distribution\n",
    "\n",
    "The normality assumption is based on the assumption that the data have a normal distribution. The normal distribution is a type of distribution in which the data are distributed in the form of a bell curve, symmetrical with its mean and variability with its standard deviation.\n",
    "\n",
    "The assumption of normality in A/B tests is especially important so that parametric tests (for example, independent two-sample t-test) can produce accurate results. Parametric tests work on the assumption that the data fit a normal distribution, and the validity of this assumption increases the reliability of the results.\n",
    "\n",
    "Various methods can be used to evaluate whether the normality assumption is valid. The Shapiro-Wilk Test is also a statistical method that tests the conformity of the data to the normal distribution. The H0 hypothesis states that the data have a normal distribution.\n",
    "\n",
    "If the data do not satisfy the assumption of normality, alternative methods such as non-parametric tests (for example, Mann-Whitney U test) or transformation of the data can be used. Non-parametric tests are statistical methods that can work with data that do not satisfy the assumption of normality.\n",
    "\n",
    "H0 : The assumption of normal distribution is provided.\n",
    "\n",
    "H1 : The assumption of normal distribution is not provided.\n",
    "\n",
    "\n",
    "p-value < 0.05 => H0 -> Reject\n",
    "\n",
    "p-value > 0.05 => H0 -> Cannot Reject\n"
   ]
  },
  {
   "cell_type": "code",
   "execution_count": 23,
   "id": "905b870c-45cc-4871-8466-6665ba67ec67",
   "metadata": {},
   "outputs": [
    {
     "name": "stdout",
     "output_type": "stream",
     "text": [
      "Test Stat = 0.0881, p-value = 0.0000\n"
     ]
    }
   ],
   "source": [
    "# importing the necessary libraries\n",
    "import statsmodels.stats.api as sms\n",
    "from scipy.stats import ttest_1samp, shapiro, levene, ttest_ind, mannwhitneyu, \\\n",
    "    pearsonr, spearmanr, kendalltau, f_oneway, kruskal\n",
    "from statsmodels.stats.proportion import proportions_ztest\n",
    "\n",
    "\n",
    "# gate30 \n",
    "test_stat, pvalue = shapiro(df.loc[df[\"version\"] == \"gate_30\", \"sum_gamerounds\"])\n",
    "print(\"Test Stat = %.4f, p-value = %.4f\" % (test_stat, pvalue))"
   ]
  },
  {
   "cell_type": "code",
   "execution_count": 24,
   "id": "1bfa30c8-f908-46b2-ba40-93cb4e836d52",
   "metadata": {},
   "outputs": [
    {
     "name": "stdout",
     "output_type": "stream",
     "text": [
      "Test Stat = 0.4826, p-value = 0.0000\n"
     ]
    }
   ],
   "source": [
    "# gate40\n",
    "\n",
    "test_stat, pvalue = shapiro(df.loc[df[\"version\"] == \"gate_40\", \"sum_gamerounds\"])\n",
    "print(\"Test Stat = %.4f, p-value = %.4f\" % (test_stat, pvalue))"
   ]
  },
  {
   "cell_type": "markdown",
   "id": "1ae1f4ff-0439-43f9-bb7d-95a339333360",
   "metadata": {},
   "source": [
    "In both the cases, the p value is 0. Hence the normality assumption was rejected because it was less than 0.05."
   ]
  },
  {
   "cell_type": "markdown",
   "id": "38023164-4c21-40f2-91d7-8fcf4f461412",
   "metadata": {},
   "source": [
    "##### 2. Variance Homogeneity Assumption\n",
    "In statistical methods such as A/B testing, the assumption of homogeneity of variance is based on the assumption that data distributions between two or more groups have the same or similar variance. This assumption refers to the situation where the data of the groups show homogeneous and similar variability.\n",
    "\n",
    "Homogeneity of variance is especially important in parametric tests such as ANOVA (Analysis of Variance) and independent two-sample t-test. These tests produce more reliable results when the data conform to the assumption of homogeneity of variance. If the assumption of homogeneity of variance is not valid, alternative test methods or transformations can be used.\n",
    "\n",
    "Various methods can be used to control and evaluate variance homogeneity. Levene's test is a statistical test that evaluates whether the variances of the groups are homogeneous. The H0 hypothesis states that the variances of the groups are homogeneous.\n",
    "\n",
    "H0 : The variance is homogeneous.\n",
    "\n",
    "H1 : The variance is not homogeneous.\n",
    "\n",
    "\n",
    "p-value < 0.05 => H0 -> Reject\n",
    "\n",
    "p-value > 0.05 => H0 -> Cannot Reject"
   ]
  },
  {
   "cell_type": "code",
   "execution_count": 25,
   "id": "471eafcc-bc8c-46bc-a09a-8928ea5f63fd",
   "metadata": {},
   "outputs": [
    {
     "name": "stdout",
     "output_type": "stream",
     "text": [
      "Test Stat = 0.5292, p-value = 0.4669\n"
     ]
    }
   ],
   "source": [
    "test_stat, pvalue = levene(df.loc[df[\"version\"] == \"gate_30\", \"sum_gamerounds\"],\n",
    "                            df.loc[df[\"version\"] == \"gate_40\", \"sum_gamerounds\"])\n",
    "print(\"Test Stat = %.4f, p-value = %.4f\" % (test_stat, pvalue))"
   ]
  },
  {
   "cell_type": "markdown",
   "id": "42a1797d-b7af-4496-9aa8-e567cfef7bf6",
   "metadata": {},
   "source": [
    "H0 cannot be rejected because the p-value is greater than 0.05. "
   ]
  },
  {
   "cell_type": "markdown",
   "id": "5691398c-fb1f-431c-b012-bd3720e3d168",
   "metadata": {},
   "source": [
    "### Apply of the Hyphothesis"
   ]
  },
  {
   "cell_type": "markdown",
   "id": "b2b77924-9fc0-42d6-b54b-f5406ba1ddcb",
   "metadata": {},
   "source": [
    "If the normality assumption is rejected for the A/B test, but the variance homogeneity assumption is satisfied, then it is recommended to use non-parametric test methods.\n",
    "\n",
    "Non-parametric tests are statistical tests used when data do not satisfy the normality assumption or do not comply with other assumptions.\n",
    "\n",
    "The Mann-Whitney U Test is a test used to compare two independent groups. If the homogeneity of variance assumption is not met, Welch's t-test can be used instead.\n",
    "\n",
    "p-value < 0.05 => H0 -> Reject\n",
    "\n",
    "p-value > 0.05 => H0 -> Cannot Reject"
   ]
  },
  {
   "cell_type": "code",
   "execution_count": 26,
   "id": "c3609d18-9653-47dd-b988-48bb4bb9644d",
   "metadata": {},
   "outputs": [
    {
     "name": "stdout",
     "output_type": "stream",
     "text": [
      "Test Stat = 1024331250.5000, p-value = 0.0502\n"
     ]
    }
   ],
   "source": [
    "test_stat, pvalue = mannwhitneyu(df.loc[df[\"version\"] == \"gate_30\", \"sum_gamerounds\"],\n",
    "                            df.loc[df[\"version\"] == \"gate_40\", \"sum_gamerounds\"])\n",
    "print(\"Test Stat = %.4f, p-value = %.4f\" % (test_stat, pvalue))"
   ]
  },
  {
   "cell_type": "markdown",
   "id": "3b18a507-3316-4ce7-8a63-4fb160f20eff",
   "metadata": {},
   "source": [
    "H0 cannot be rejected because the p-value is greater than 0.05.\n",
    "\n",
    "That is, there is no statistically significant difference between 'gate30' and 'gate40' with 95% confidence. Therefore, the result came about by chance."
   ]
  },
  {
   "cell_type": "markdown",
   "id": "5a987229-1d37-434a-9436-a507497e6f80",
   "metadata": {},
   "source": [
    "# CONCLUSION"
   ]
  },
  {
   "cell_type": "markdown",
   "id": "2b29e82c-fe87-4697-9e84-41825e2f957e",
   "metadata": {},
   "source": [
    "In this notebook work, we tried to understand the business problem for Cookie Cats Games. The company was undecided about where to place the door in the game. We decided to analyze how the location of this door affects the continuation of their earnings. First of all, we got to know the dataset. Afterwards, we made a short analysis between the variables. At the end of this analysis, gate30 seemed to be more advantageous. But we needed to prove it statistically. We formed our H0 hypothesis and said 'there is no statistically significant difference between these two doors'. We then used the shapiro test for the assumption of normality and the levene test for homogeneity of variance. We used the non-parametric Mann-Whitney U Test as the normality assumption was rejected. As a result, we can say that there is no statistically significant difference between these two doors with 95% confidence. Therefore, the company can continue to use gate30"
   ]
  }
 ],
 "metadata": {
  "kernelspec": {
   "display_name": "Python 3 (ipykernel)",
   "language": "python",
   "name": "python3"
  },
  "language_info": {
   "codemirror_mode": {
    "name": "ipython",
    "version": 3
   },
   "file_extension": ".py",
   "mimetype": "text/x-python",
   "name": "python",
   "nbconvert_exporter": "python",
   "pygments_lexer": "ipython3",
   "version": "3.9.13"
  }
 },
 "nbformat": 4,
 "nbformat_minor": 5
}
